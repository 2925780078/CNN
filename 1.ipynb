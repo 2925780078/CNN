{
 "cells": [
  {
   "cell_type": "code",
   "execution_count": 1,
   "id": "5141f1d0-89cf-42b1-b1ea-13f22d03b0c2",
   "metadata": {},
   "outputs": [],
   "source": [
    "import numpy as np\n",
    "import matplotlib as plt\n",
    "import time\n",
    "from tqdm import *\n"
   ]
  },
  {
   "cell_type": "code",
   "execution_count": 2,
   "id": "da888958-1f0a-4286-8a26-4f7d31348003",
   "metadata": {},
   "outputs": [],
   "source": [
    "import torch\n",
    "from torchvision import datasets\n",
    "from torchvision import transforms\n",
    "from torch.utils.data import DataLoader\n",
    "import torch.optim as optim"
   ]
  },
  {
   "cell_type": "code",
   "execution_count": 3,
   "id": "72de32c3-111e-4d49-89b4-aad78fcceb47",
   "metadata": {},
   "outputs": [],
   "source": [
    "batch_size=64\n",
    "transform = transforms.Compose([\n",
    "    transforms.ToTensor(),\n",
    "    transforms.Normalize((0.1307,),(0.3081,))\n",
    "])\n",
    "train_dataset=datasets.MNIST(root='/Users/steve/Desktop',\n",
    "                            train=True,\n",
    "                            download=True,\n",
    "                            transform=transform)\n",
    "train_loader=DataLoader(train_dataset,\n",
    "                        shuffle=True,\n",
    "                        batch_size=batch_size\n",
    ")\n",
    "test_dataset=datasets.MNIST(root='/Users/steve/Desktop',\n",
    "                           train=False,\n",
    "                           download=True,\n",
    "                        transform=transform\n",
    ")\n",
    "test_loader=DataLoader(test_dataset,\n",
    "                       shuffle=True,\n",
    "                       batch_size=batch_size\n",
    ")\n",
    "\n"
   ]
  },
  {
   "cell_type": "code",
   "execution_count": 4,
   "id": "6c7f2efd-5058-4ac4-8a95-4523a52d8975",
   "metadata": {},
   "outputs": [],
   "source": [
    "class CNN(torch.nn.Module):\n",
    "    def __init__(self):\n",
    "        super(CNN,self).__init__()\n",
    "        self.conv1 = torch.nn.Conv2d(1,10,kernel_size=5)\n",
    "        self.conv2= torch.nn.Conv2d(10,20,kernel_size=5)\n",
    "        #卷积核定义\n",
    "        self.pooling=torch.nn.MaxPool2d(2)\n",
    "        #由于不含权重，pooling层只需要定义一次\n",
    "        self.linear1=torch.nn.Linear(320,120)\n",
    "        self.linear2=torch.nn.Linear(120,10)\n",
    "        self.relu=torch.nn.functional.relu\n",
    "        #relu在多分类器层中\n",
    "    def forward(self,x):\n",
    "        batch_size=x.size(0)\n",
    "        #由于在batch拆分时不能达到完美切割，最后一个batch的大小与其他batch可能不同，所以要重新定义\n",
    "        x=self.relu(self.pooling(self.conv1(x)))\n",
    "        x=self.relu(self.pooling(self.conv2(x)))\n",
    "        #一般是先pooling后relu\n",
    "        x=x.view(batch_size,-1)\n",
    "        #x.view的结果是（batch_size，处理后图像的C*H*W）\n",
    "        x=self.linear2(self.relu(self.linear1(x)))\n",
    "        #最后一层分类后不需要激活函数，因为求交叉熵时用的CrossEntropyLoss里面包含softmax步骤\n",
    "        return x\n",
    "Model=CNN()"
   ]
  },
  {
   "cell_type": "code",
   "execution_count": 5,
   "id": "d60790e4-7a55-42c7-9657-507a8c1a3618",
   "metadata": {},
   "outputs": [],
   "source": [
    "criterion = torch.nn.CrossEntropyLoss(reduction='mean')\n",
    "optimizer = optim.SGD(Model.parameters(), lr=0.01,momentum=0.5)"
   ]
  },
  {
   "cell_type": "code",
   "execution_count": 6,
   "id": "bb7ffb44-964e-4c66-91fa-de3a188bd894",
   "metadata": {},
   "outputs": [
    {
     "name": "stdout",
     "output_type": "stream",
     "text": [
      "[1,   300] loss: 1.006\n",
      "[1,   600] loss: 0.232\n",
      "[1,   900] loss: 0.172\n",
      "accuracy on test set: 95 % \n",
      "[2,   300] loss: 0.124\n",
      "[2,   600] loss: 0.112\n",
      "[2,   900] loss: 0.093\n",
      "accuracy on test set: 97 % \n",
      "[3,   300] loss: 0.079\n",
      "[3,   600] loss: 0.077\n",
      "[3,   900] loss: 0.072\n",
      "accuracy on test set: 98 % \n",
      "[4,   300] loss: 0.061\n",
      "[4,   600] loss: 0.065\n",
      "[4,   900] loss: 0.056\n",
      "accuracy on test set: 97 % \n",
      "[5,   300] loss: 0.052\n",
      "[5,   600] loss: 0.053\n",
      "[5,   900] loss: 0.045\n",
      "accuracy on test set: 98 % \n",
      "[6,   300] loss: 0.044\n",
      "[6,   600] loss: 0.043\n",
      "[6,   900] loss: 0.042\n",
      "accuracy on test set: 98 % \n",
      "[7,   300] loss: 0.039\n",
      "[7,   600] loss: 0.038\n",
      "[7,   900] loss: 0.038\n",
      "accuracy on test set: 98 % \n",
      "[8,   300] loss: 0.033\n",
      "[8,   600] loss: 0.035\n",
      "[8,   900] loss: 0.033\n",
      "accuracy on test set: 98 % \n",
      "[9,   300] loss: 0.031\n",
      "[9,   600] loss: 0.030\n",
      "[9,   900] loss: 0.033\n",
      "accuracy on test set: 98 % \n",
      "[10,   300] loss: 0.027\n",
      "[10,   600] loss: 0.027\n",
      "[10,   900] loss: 0.028\n",
      "accuracy on test set: 98 % \n"
     ]
    }
   ],
   "source": [
    "def train(epoch):\n",
    "    running_loss = 0.0\n",
    "    for batch_idx, data in enumerate(train_loader, 0):\n",
    "        inputs, target = data\n",
    "        optimizer.zero_grad()\n",
    " \n",
    "        outputs = Model(inputs)\n",
    "        loss = criterion(outputs, target)\n",
    "        loss.backward()\n",
    "        optimizer.step()\n",
    " \n",
    "        running_loss += loss.item()\n",
    "        if batch_idx % 300 == 299:\n",
    "            print('[%d, %5d] loss: %.3f' % (epoch+1, batch_idx+1, running_loss/300))\n",
    "            running_loss = 0.0\n",
    " \n",
    " \n",
    "def test():\n",
    "    correct = 0\n",
    "    total = 0\n",
    "    with torch.no_grad():\n",
    "        for data in test_loader:\n",
    "            images, labels = data\n",
    "            outputs = Model(images)\n",
    "            _, predicted = torch.max(outputs.data, dim=1)\n",
    "            total += labels.size(0)\n",
    "            correct += (predicted == labels).sum().item()\n",
    "    print('accuracy on test set: %d %% ' % (100*correct/total))\n",
    " \n",
    " \n",
    "if __name__ == '__main__':\n",
    "    for epoch in range(10):\n",
    "        train(epoch)\n",
    "        test()\n"
   ]
  }
 ],
 "metadata": {
  "kernelspec": {
   "display_name": "Python 3 (ipykernel)",
   "language": "python",
   "name": "python3"
  },
  "language_info": {
   "codemirror_mode": {
    "name": "ipython",
    "version": 3
   },
   "file_extension": ".py",
   "mimetype": "text/x-python",
   "name": "python",
   "nbconvert_exporter": "python",
   "pygments_lexer": "ipython3",
   "version": "3.9.7"
  }
 },
 "nbformat": 4,
 "nbformat_minor": 5
}
